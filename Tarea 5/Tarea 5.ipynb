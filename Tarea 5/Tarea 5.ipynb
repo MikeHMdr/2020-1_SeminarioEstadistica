{
 "cells": [
  {
   "cell_type": "markdown",
   "metadata": {},
   "source": [
    "# Tarea 5\n",
    "\n",
    "### Ejercicio 1 - KMeans\n",
    "\n",
    "Aplique `class sklearn.cluster.KMeans` con los datos `Datos_KMeans.csv`. \n",
    "\n",
    "Realice y responda lo siguiente:\n",
    "\n",
    "1. Grafique los datos en el eje x y en el eje y. Personalice la gráfica, por ejemplo, cambié los puntos de circulos por estrellas.\n",
    "2. Realice una gráfica del $WCSS$ en función de la cantidad de grupos (desde 1 grupo hasta 15).\n",
    "    1. Utilizando el método *Elbow Method* sugiera un número adecuado para el parámetro $k$.\n",
    "    2. Explique lo que mide $WCSS$ e interprete la gráfica.\n",
    "    3. Realice una gráfica de los datos coloreando los puntos de acuerdo al grupo asignado. Personalice los colores de la gráfica.\n",
    "3. Utilice otra métrica para sugerir un número adecuado para el parámetro $k$. (Por ejemplo,`silhouette_score`, aunque es libre de elegir alguna otra).\n",
    "    1. Gráfique esta nueva métrica en función de la cantidad de grupos y sugiera un número adecuado para el parámetro $k$.\n",
    "    2. Explique brevemente lo que mide la métrica seleccionada.\n",
    "    3. Grafique los datos coloreando los puntos de acuerdo al grupo asignado. Personalice los colores de la gráfica.\n",
    "4. Investigue la métrica `homogeneity_score` para seleccionar el número de grupos y expliquela brevemente.\n",
    "5. Concluya\n",
    "    1. ¿Las métricas que utilizó en el inciso 2 y 3 indicaron la misma cantidad de grupos?\n",
    "    2. Si tuviese que elegir alguna de las dos métricas, ¿Cuál elegiría y por qué?\n",
    "    3. ¿Usted considera que la realmente existen $\\hat{k}$ grupos? Argumente su respuesta\n",
    "\n",
    "### Ejercicio 2 - Clustering Jerárquico\n",
    "\n",
    "Utilice `scipy.cluster.hierarchy.linkage`,`scipy.cluster.hierarchy.dendrogram` y `scipy.cluster.hierarchy.fcluster` con los datos `Datos_CJerarquico.csv`. \n",
    "\n",
    "Realice y responda lo siguiente:\n",
    "\n",
    "1. Grafique los datos en el eje x y en el eje y.\n",
    "    1. Personalice la gráfica (Por ejemplo, cambié los puntos de circulos por estrellas)\n",
    "    2. Coloque una etiqueta a cada observación para identificarla. \n",
    "2. Realice un dendograma aglomerativo para 4 de los métodos (single, complete, average, weighted, centroid, median, ward). Personalice cada gráfica, coloque el titulo de la gráfica de acuerdo al método usado. \n",
    "    1. ¿Observa alguna diferencia significativa entre los métodos? Detalle su respuesta\n",
    "    2. Investiga y describa brevemente los 3 métodos restantes (aquellos a los que no hicieron dendograma).\n",
    "    3. Seleccione un método que considere adecuado. \n",
    "3. Realice un dendograma para 4 de las siguientes métricas (euclidean, cityblock, cosine, correlation, hamming, jaccard, yule, dice, mahalanobis). Personalice cada gráfica, coloque el titulo de la gráfica de acuerdo a la métrica usada. \n",
    "    1. ¿Observa alguna diferencia significativa entre los métodos? Detalle su respuesta.\n",
    "    2. Investiga y describa brevemente las 5 métricas restantes (aquellos a los que no hicieron dendograma).\n",
    "    3. Seleccione una métrica que considere adecuada.\n",
    "4. Realice dos gráfica de los datos coloreando los puntos de acuerdo al grupo asignado.\n",
    "    1. Utilice las gráficas de los incisos 2 y 3 para sugerir un número de grupos.\n",
    "    2. Para la primer gráfica utilice el método seleccionado en el inciso 2 y la métrica seleccionada en el inciso 3. Personalice los colores de la gráfica.\n",
    "    3. Para la segunda gráfica utilice algún método y métrica que le hayan parecido interesantes (diferentes a las métricas seleccionadas).\n",
    "5. Concluya\n",
    "    1. Analizando el inciso 2, ¿Todos los métodos llegan a la misma jerarquía de grupos?\n",
    "    2. Analizando el inciso 3, ¿Todos las métricas llegan a la misma jerarquía de grupos?\n",
    "    3. ¿Usted considera que la realmente existen $\\hat{k}$ grupos? Argumente su respuesta"
   ]
  }
 ],
 "metadata": {
  "kernelspec": {
   "display_name": "Python 3",
   "language": "python",
   "name": "python3"
  },
  "language_info": {
   "codemirror_mode": {
    "name": "ipython",
    "version": 3
   },
   "file_extension": ".py",
   "mimetype": "text/x-python",
   "name": "python",
   "nbconvert_exporter": "python",
   "pygments_lexer": "ipython3",
   "version": "3.6.5"
  }
 },
 "nbformat": 4,
 "nbformat_minor": 2
}
