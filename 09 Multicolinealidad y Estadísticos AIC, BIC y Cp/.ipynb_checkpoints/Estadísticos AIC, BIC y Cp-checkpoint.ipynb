{
 "cells": [
  {
   "cell_type": "markdown",
   "metadata": {},
   "source": [
    "# Estadísticos AIC, BIC y Cp"
   ]
  },
  {
   "cell_type": "code",
   "execution_count": 1,
   "metadata": {},
   "outputs": [],
   "source": [
    "# Bibliotecas a utilizar \n",
    "#import sys\n",
    "#!{sys.executable} -m pip install RegscorePy \n",
    "import numpy                   as np      # Uso de álgebra lineal, funciones vectoriales\n",
    "import pandas                  as pd      # Trabajar con DataFrames\n",
    "import statsmodels.formula.api as smf     # Modelos estadísticos\n",
    "import RegscorePy              as rsp     # AIC, BIC y Cp usando la descomposición de cuadrados\n",
    "\n",
    "# Referencias::\n",
    "# https://pypi.org/project/RegscorePy/\n",
    "# https://virtual.uptc.edu.co/ova/estadistica/docs/libros/2007315/lecciones_html/capitulo_8/leccion1/leccion1-4/cpmallows.html  "
   ]
  },
  {
   "cell_type": "markdown",
   "metadata": {},
   "source": [
    "# Datos :: mtcars"
   ]
  },
  {
   "cell_type": "code",
   "execution_count": 2,
   "metadata": {},
   "outputs": [
    {
     "data": {
      "text/html": [
       "<div>\n",
       "<style scoped>\n",
       "    .dataframe tbody tr th:only-of-type {\n",
       "        vertical-align: middle;\n",
       "    }\n",
       "\n",
       "    .dataframe tbody tr th {\n",
       "        vertical-align: top;\n",
       "    }\n",
       "\n",
       "    .dataframe thead th {\n",
       "        text-align: right;\n",
       "    }\n",
       "</style>\n",
       "<table border=\"1\" class=\"dataframe\">\n",
       "  <thead>\n",
       "    <tr style=\"text-align: right;\">\n",
       "      <th></th>\n",
       "      <th>mpg</th>\n",
       "      <th>cyl</th>\n",
       "      <th>disp</th>\n",
       "      <th>hp</th>\n",
       "      <th>drat</th>\n",
       "      <th>wt</th>\n",
       "      <th>qsec</th>\n",
       "      <th>vs</th>\n",
       "      <th>am</th>\n",
       "      <th>gear</th>\n",
       "      <th>carb</th>\n",
       "    </tr>\n",
       "  </thead>\n",
       "  <tbody>\n",
       "    <tr>\n",
       "      <th>0</th>\n",
       "      <td>21.0</td>\n",
       "      <td>6</td>\n",
       "      <td>160.0</td>\n",
       "      <td>110</td>\n",
       "      <td>3.90</td>\n",
       "      <td>2.620</td>\n",
       "      <td>16.46</td>\n",
       "      <td>0</td>\n",
       "      <td>1</td>\n",
       "      <td>4</td>\n",
       "      <td>4</td>\n",
       "    </tr>\n",
       "    <tr>\n",
       "      <th>1</th>\n",
       "      <td>21.0</td>\n",
       "      <td>6</td>\n",
       "      <td>160.0</td>\n",
       "      <td>110</td>\n",
       "      <td>3.90</td>\n",
       "      <td>2.875</td>\n",
       "      <td>17.02</td>\n",
       "      <td>0</td>\n",
       "      <td>1</td>\n",
       "      <td>4</td>\n",
       "      <td>4</td>\n",
       "    </tr>\n",
       "    <tr>\n",
       "      <th>2</th>\n",
       "      <td>22.8</td>\n",
       "      <td>4</td>\n",
       "      <td>108.0</td>\n",
       "      <td>93</td>\n",
       "      <td>3.85</td>\n",
       "      <td>2.320</td>\n",
       "      <td>18.61</td>\n",
       "      <td>1</td>\n",
       "      <td>1</td>\n",
       "      <td>4</td>\n",
       "      <td>1</td>\n",
       "    </tr>\n",
       "    <tr>\n",
       "      <th>3</th>\n",
       "      <td>21.4</td>\n",
       "      <td>6</td>\n",
       "      <td>258.0</td>\n",
       "      <td>110</td>\n",
       "      <td>3.08</td>\n",
       "      <td>3.215</td>\n",
       "      <td>19.44</td>\n",
       "      <td>1</td>\n",
       "      <td>0</td>\n",
       "      <td>3</td>\n",
       "      <td>1</td>\n",
       "    </tr>\n",
       "    <tr>\n",
       "      <th>4</th>\n",
       "      <td>18.7</td>\n",
       "      <td>8</td>\n",
       "      <td>360.0</td>\n",
       "      <td>175</td>\n",
       "      <td>3.15</td>\n",
       "      <td>3.440</td>\n",
       "      <td>17.02</td>\n",
       "      <td>0</td>\n",
       "      <td>0</td>\n",
       "      <td>3</td>\n",
       "      <td>2</td>\n",
       "    </tr>\n",
       "  </tbody>\n",
       "</table>\n",
       "</div>"
      ],
      "text/plain": [
       "    mpg  cyl   disp   hp  drat     wt   qsec  vs  am  gear  carb\n",
       "0  21.0    6  160.0  110  3.90  2.620  16.46   0   1     4     4\n",
       "1  21.0    6  160.0  110  3.90  2.875  17.02   0   1     4     4\n",
       "2  22.8    4  108.0   93  3.85  2.320  18.61   1   1     4     1\n",
       "3  21.4    6  258.0  110  3.08  3.215  19.44   1   0     3     1\n",
       "4  18.7    8  360.0  175  3.15  3.440  17.02   0   0     3     2"
      ]
     },
     "execution_count": 2,
     "metadata": {},
     "output_type": "execute_result"
    }
   ],
   "source": [
    "# Leemos los datos\n",
    "datos = pd.read_csv(\"mtcars.csv\")\n",
    "datos.head()"
   ]
  },
  {
   "cell_type": "markdown",
   "metadata": {},
   "source": [
    "# Modelo completo"
   ]
  },
  {
   "cell_type": "code",
   "execution_count": 3,
   "metadata": {},
   "outputs": [
    {
     "name": "stdout",
     "output_type": "stream",
     "text": [
      "                            OLS Regression Results                            \n",
      "==============================================================================\n",
      "Dep. Variable:                    mpg   R-squared:                       0.869\n",
      "Model:                            OLS   Adj. R-squared:                  0.807\n",
      "Method:                 Least Squares   F-statistic:                     13.93\n",
      "Date:                Wed, 11 Sep 2019   Prob (F-statistic):           3.79e-07\n",
      "Time:                        21:47:15   Log-Likelihood:                -69.855\n",
      "No. Observations:                  32   AIC:                             161.7\n",
      "Df Residuals:                      21   BIC:                             177.8\n",
      "Df Model:                          10                                         \n",
      "Covariance Type:            nonrobust                                         \n",
      "==============================================================================\n",
      "                 coef    std err          t      P>|t|      [0.025      0.975]\n",
      "------------------------------------------------------------------------------\n",
      "Intercept     12.3034     18.718      0.657      0.518     -26.623      51.229\n",
      "cyl           -0.1114      1.045     -0.107      0.916      -2.285       2.062\n",
      "disp           0.0133      0.018      0.747      0.463      -0.024       0.050\n",
      "hp            -0.0215      0.022     -0.987      0.335      -0.067       0.024\n",
      "drat           0.7871      1.635      0.481      0.635      -2.614       4.188\n",
      "wt            -3.7153      1.894     -1.961      0.063      -7.655       0.224\n",
      "qsec           0.8210      0.731      1.123      0.274      -0.699       2.341\n",
      "vs             0.3178      2.105      0.151      0.881      -4.059       4.694\n",
      "am             2.5202      2.057      1.225      0.234      -1.757       6.797\n",
      "gear           0.6554      1.493      0.439      0.665      -2.450       3.761\n",
      "carb          -0.1994      0.829     -0.241      0.812      -1.923       1.524\n",
      "==============================================================================\n",
      "Omnibus:                        1.907   Durbin-Watson:                   1.861\n",
      "Prob(Omnibus):                  0.385   Jarque-Bera (JB):                1.747\n",
      "Skew:                           0.521   Prob(JB):                        0.418\n",
      "Kurtosis:                       2.526   Cond. No.                     1.22e+04\n",
      "==============================================================================\n",
      "\n",
      "Warnings:\n",
      "[1] Standard Errors assume that the covariance matrix of the errors is correctly specified.\n",
      "[2] The condition number is large, 1.22e+04. This might indicate that there are\n",
      "strong multicollinearity or other numerical problems.\n"
     ]
    }
   ],
   "source": [
    "# Generamos el modelo con todas las variables (incluyendo intercepto)\n",
    "modelo_completo = smf.ols('mpg ~ 1 + cyl + disp + hp + drat + wt + qsec + vs + am + gear + carb', data = datos).fit()\n",
    "print( modelo_completo.summary() )"
   ]
  },
  {
   "cell_type": "markdown",
   "metadata": {},
   "source": [
    "Recordemos las definiciones de AIC y BIC\n",
    "\n",
    "### Por LogVerosimilitud\n",
    "\n",
    "$$\n",
    "\\begin{align*}\n",
    "AIC &:= -2 \\cdot \\text{logLik} + p \\cdot 2 \\\\\n",
    "BIC &:= -2 \\cdot \\text{logLik} + p \\cdot \\ln(n)\n",
    "\\end{align*}\n",
    "$$\n",
    "\n",
    "\n",
    "### Por Descomposición de Cuadrados\n",
    "$$\n",
    "\\begin{align*}\n",
    "AIC &:= n \\cdot \\ln\\left( \\dfrac{SCE}{n} \\right) + p \\cdot 2 \\\\\n",
    "BIC &:= n \\cdot \\ln\\left( \\dfrac{SCE}{n} \\right) + p \\cdot \\ln(n)\n",
    "\\end{align*}\n",
    "$$\n",
    "\n",
    "### Además de los criterios anteriores, existe el criterio Mallows Cp (dos versiones para la desc. de cuadrados)\n",
    "$$\n",
    "\\begin{align*}\n",
    "Cp := \\dfrac{SCE}{\\hat{\\sigma}^2} - n + p \\cdot 2 \\\\\n",
    "Cp := \\dfrac{SCE + 2 \\cdot p \\cdot \\hat{\\sigma}^2}{n}\n",
    "\\end{align*}\n",
    "$$\n",
    "\n",
    "donde $SSE$ es la Suma de Cuadrados del Error (también conocido de los residuales), $n$ es el tamaño de muestra y $p$ es el número de covariables en la matriz de diseño (incluyendo el intercepto) y **$\\hat{\\sigma}^2$ es el estimador insesgado de la varianza de los errores del modelo completo (con todas las covariables y el intercepto).**"
   ]
  },
  {
   "cell_type": "code",
   "execution_count": 4,
   "metadata": {},
   "outputs": [
    {
     "name": "stdout",
     "output_type": "stream",
     "text": [
      "AIC ::  70.89774430938061\n",
      "BIC ::  87.02083924017762\n",
      " Cp ::  11.0\n"
     ]
    }
   ],
   "source": [
    "# Calculamos el AIC y BIC\n",
    "s2 = np.sum( np.array( modelo_completo.resid )**2 ) / ( 32 - 11 ) # n-p\n",
    "print(\"AIC :: \", 32 * np.log( np.sum( np.array( modelo_completo.resid )**2 ) / 32 ) + 11 * 2 )\n",
    "print(\"BIC :: \", 32 * np.log( np.sum( np.array( modelo_completo.resid )**2 ) / 32 ) + 11 * np.log(32) )\n",
    "print(\" Cp :: \", np.sum( np.array( modelo_completo.resid )**2 ) / s2 - 32 + 11 * 2 )"
   ]
  },
  {
   "cell_type": "code",
   "execution_count": 5,
   "metadata": {},
   "outputs": [
    {
     "name": "stdout",
     "output_type": "stream",
     "text": [
      "                 Results: Ordinary least squares\n",
      "=================================================================\n",
      "Model:              OLS              Adj. R-squared:     0.807   \n",
      "Dependent Variable: mpg              AIC:                161.7098\n",
      "Date:               2019-09-11 21:47 BIC:                177.8329\n",
      "No. Observations:   32               Log-Likelihood:     -69.855 \n",
      "Df Model:           10               F-statistic:        13.93   \n",
      "Df Residuals:       21               Prob (F-statistic): 3.79e-07\n",
      "R-squared:          0.869            Scale:              7.0235  \n",
      "------------------------------------------------------------------\n",
      "              Coef.   Std.Err.     t     P>|t|    [0.025    0.975]\n",
      "------------------------------------------------------------------\n",
      "Intercept    12.3034   18.7179   0.6573  0.5181  -26.6226  51.2293\n",
      "cyl          -0.1114    1.0450  -0.1066  0.9161   -2.2847   2.0618\n",
      "disp          0.0133    0.0179   0.7468  0.4635   -0.0238   0.0505\n",
      "hp           -0.0215    0.0218  -0.9868  0.3350   -0.0668   0.0238\n",
      "drat          0.7871    1.6354   0.4813  0.6353   -2.6138   4.1881\n",
      "wt           -3.7153    1.8944  -1.9612  0.0633   -7.6550   0.2243\n",
      "qsec          0.8210    0.7308   1.1234  0.2739   -0.6988   2.3409\n",
      "vs            0.3178    2.1045   0.1510  0.8814   -4.0588   4.6943\n",
      "am            2.5202    2.0567   1.2254  0.2340   -1.7568   6.7973\n",
      "gear          0.6554    1.4933   0.4389  0.6652   -2.4500   3.7608\n",
      "carb         -0.1994    0.8288  -0.2406  0.8122   -1.9229   1.5241\n",
      "-----------------------------------------------------------------\n",
      "Omnibus:              1.907        Durbin-Watson:           1.861\n",
      "Prob(Omnibus):        0.385        Jarque-Bera (JB):        1.747\n",
      "Skew:                 0.521        Prob(JB):                0.418\n",
      "Kurtosis:             2.526        Condition No.:           12213\n",
      "=================================================================\n",
      "* The condition number is large (1e+04). This might indicate\n",
      "strong multicollinearity or other numerical problems.\n"
     ]
    }
   ],
   "source": [
    "print( modelo_completo.summary2() )"
   ]
  },
  {
   "cell_type": "code",
   "execution_count": 6,
   "metadata": {},
   "outputs": [
    {
     "data": {
      "text/plain": [
       "7.023544286507174"
      ]
     },
     "execution_count": 6,
     "metadata": {},
     "output_type": "execute_result"
    }
   ],
   "source": [
    "np.sum( modelo_completo.resid ** 2 ) / ( 32 - 11 )"
   ]
  },
  {
   "cell_type": "code",
   "execution_count": 7,
   "metadata": {},
   "outputs": [
    {
     "data": {
      "text/plain": [
       "36.32410282258064"
      ]
     },
     "execution_count": 7,
     "metadata": {},
     "output_type": "execute_result"
    }
   ],
   "source": [
    "modelo_completo.mse_total"
   ]
  },
  {
   "cell_type": "code",
   "execution_count": 8,
   "metadata": {},
   "outputs": [
    {
     "data": {
      "text/plain": [
       "7.023544286507174"
      ]
     },
     "execution_count": 8,
     "metadata": {},
     "output_type": "execute_result"
    }
   ],
   "source": [
    "modelo_completo.mse_resid"
   ]
  },
  {
   "cell_type": "code",
   "execution_count": 9,
   "metadata": {},
   "outputs": [
    {
     "data": {
      "text/plain": [
       "97.85527574833492"
      ]
     },
     "execution_count": 9,
     "metadata": {},
     "output_type": "execute_result"
    }
   ],
   "source": [
    "modelo_completo.mse_model"
   ]
  },
  {
   "cell_type": "code",
   "execution_count": 10,
   "metadata": {},
   "outputs": [
    {
     "data": {
      "text/plain": [
       "-8.492728890816494"
      ]
     },
     "execution_count": 10,
     "metadata": {},
     "output_type": "execute_result"
    }
   ],
   "source": [
    "np.sum( np.array( modelo_completo.resid )**2 ) / modelo_completo.mse_model - 32 + 11 * 2"
   ]
  },
  {
   "cell_type": "code",
   "execution_count": 11,
   "metadata": {},
   "outputs": [
    {
     "name": "stdout",
     "output_type": "stream",
     "text": [
      "AIC :: \n",
      "70.89774430938061\n",
      "\n",
      "BIC :: \n",
      "87.02083924017762\n",
      "\n",
      "Cp :: \n",
      "11.0\n"
     ]
    }
   ],
   "source": [
    "# Calculamos algunos variables necesarias\n",
    "y_real        = datos.mpg\n",
    "y_estimada_mc = modelo_completo.fittedvalues\n",
    "sigma2        = np.sum( np.array( modelo_completo.resid )**2 ) / ( 32 - 11 )\n",
    "n = 32\n",
    "p = 11\n",
    "\n",
    "# Mostramos las estadisticas\n",
    "print(\"AIC :: \")\n",
    "print(rsp.aic.aic( y = y_real, y_pred = y_estimada_mc, p = p ))\n",
    "print(\"\")\n",
    "print(\"BIC :: \")\n",
    "print(rsp.bic.bic( y = y_real, y_pred = y_estimada_mc, p = p ))\n",
    "print(\"\")\n",
    "print(\"Cp :: \")\n",
    "print(rsp.mallow.mallow( y = y_real, y_pred = y_estimada_mc, y_sub = y_estimada_mc, k = p, p = p ))"
   ]
  },
  {
   "cell_type": "markdown",
   "metadata": {},
   "source": [
    "Notemos que el AIC y BIC que se calcula mediante estas funciones **NO** corresponden a los que calculan las bibliotecas *StatsModels* o *ScikitLearn*, sin embargo, ambas versiones son correctas. \n",
    "\n",
    "Las diferentes versiones son \"monótonas\", por lo que si en la primer versión el mejor modelo es el del AIC, entonces en la segunda versión también será el AIC (aunque sus valores no coincidan).\n",
    "\n",
    "Para el coeficiente de Mallows es similar entre sus dos versiones.\n",
    "Es decir, su valor no coincide entre una y otra versión, pero el orden si se mantiene.\n",
    "\n",
    "Para estas tres estadisticas, un candidato a ser el mejor modelo es aquel que tenga el menor AIC / BIC / Cp."
   ]
  },
  {
   "cell_type": "markdown",
   "metadata": {},
   "source": [
    "# Otros sub-modelos"
   ]
  },
  {
   "cell_type": "code",
   "execution_count": 12,
   "metadata": {},
   "outputs": [
    {
     "name": "stdout",
     "output_type": "stream",
     "text": [
      "                            OLS Regression Results                            \n",
      "==============================================================================\n",
      "Dep. Variable:                    mpg   R-squared:                       0.850\n",
      "Model:                            OLS   Adj. R-squared:                  0.834\n",
      "Method:                 Least Squares   F-statistic:                     52.75\n",
      "Date:                Wed, 11 Sep 2019   Prob (F-statistic):           1.21e-11\n",
      "Time:                        21:47:15   Log-Likelihood:                -72.060\n",
      "No. Observations:                  32   AIC:                             152.1\n",
      "Df Residuals:                      28   BIC:                             158.0\n",
      "Df Model:                           3                                         \n",
      "Covariance Type:            nonrobust                                         \n",
      "==============================================================================\n",
      "                 coef    std err          t      P>|t|      [0.025      0.975]\n",
      "------------------------------------------------------------------------------\n",
      "Intercept      9.6178      6.960      1.382      0.178      -4.638      23.874\n",
      "am             2.9358      1.411      2.081      0.047       0.046       5.826\n",
      "qsec           1.2259      0.289      4.247      0.000       0.635       1.817\n",
      "wt            -3.9165      0.711     -5.507      0.000      -5.373      -2.460\n",
      "==============================================================================\n",
      "Omnibus:                        2.574   Durbin-Watson:                   1.714\n",
      "Prob(Omnibus):                  0.276   Jarque-Bera (JB):                2.213\n",
      "Skew:                           0.540   Prob(JB):                        0.331\n",
      "Kurtosis:                       2.297   Cond. No.                         296.\n",
      "==============================================================================\n",
      "\n",
      "Warnings:\n",
      "[1] Standard Errors assume that the covariance matrix of the errors is correctly specified.\n"
     ]
    }
   ],
   "source": [
    "# Generamos el modelo de ejemplo\n",
    "modelo_ejemplo = smf.ols('mpg ~ 1 + am + qsec + wt', data = datos).fit()\n",
    "print( modelo_ejemplo.summary() )"
   ]
  },
  {
   "cell_type": "code",
   "execution_count": 13,
   "metadata": {},
   "outputs": [
    {
     "name": "stdout",
     "output_type": "stream",
     "text": [
      "AIC :: \n",
      "61.30730474380213\n",
      "\n",
      "BIC :: \n",
      "67.17024835500104\n",
      "\n",
      "Cp :: \n",
      "0.10263573946057036\n"
     ]
    }
   ],
   "source": [
    "# Calculamos algunos variables necesarias \n",
    "y_real             = datos.mpg                      # Y Reales    del modelo (en este caso mpg)\n",
    "y_estimada_mc      = modelo_completo.fittedvalues   # Y Ajustadas del modelo completo (todas las covariables)\n",
    "y_estimada_ejemplo = modelo_ejemplo.fittedvalues    # Y Ajustadas del sub-modelo a comparar\n",
    "\n",
    "# Mostramos las estadisticas\n",
    "print(\"AIC :: \")\n",
    "print(rsp.aic.aic( y = y_real, y_pred = y_estimada_ejemplo, p = 4 ))\n",
    "print(\"\")\n",
    "print(\"BIC :: \")\n",
    "print(rsp.bic.bic( y = y_real, y_pred = y_estimada_ejemplo, p = 4 ))\n",
    "print(\"\")\n",
    "print(\"Cp :: \")\n",
    "print(rsp.mallow.mallow( y = y_real, y_pred = y_estimada_mc, y_sub = y_estimada_ejemplo, k = 11, p = 4 ))"
   ]
  },
  {
   "cell_type": "code",
   "execution_count": 14,
   "metadata": {},
   "outputs": [
    {
     "name": "stdout",
     "output_type": "stream",
     "text": [
      "                                 OLS Regression Results                                \n",
      "=======================================================================================\n",
      "Dep. Variable:                    mpg   R-squared (uncentered):                   0.942\n",
      "Model:                            OLS   Adj. R-squared (uncentered):              0.938\n",
      "Method:                 Least Squares   F-statistic:                              242.6\n",
      "Date:                Wed, 11 Sep 2019   Prob (F-statistic):                    3.00e-19\n",
      "Time:                        21:47:15   Log-Likelihood:                         -97.258\n",
      "No. Observations:                  32   AIC:                                      198.5\n",
      "Df Residuals:                      30   BIC:                                      201.4\n",
      "Df Model:                           2                                                  \n",
      "Covariance Type:            nonrobust                                                  \n",
      "==============================================================================\n",
      "                 coef    std err          t      P>|t|      [0.025      0.975]\n",
      "------------------------------------------------------------------------------\n",
      "cyl           -0.6433      0.361     -1.780      0.085      -1.381       0.095\n",
      "gear           6.4018      0.618     10.351      0.000       5.139       7.665\n",
      "==============================================================================\n",
      "Omnibus:                        2.383   Durbin-Watson:                   0.825\n",
      "Prob(Omnibus):                  0.304   Jarque-Bera (JB):                1.260\n",
      "Skew:                          -0.429   Prob(JB):                        0.533\n",
      "Kurtosis:                       3.459   Cond. No.                         5.60\n",
      "==============================================================================\n",
      "\n",
      "Warnings:\n",
      "[1] Standard Errors assume that the covariance matrix of the errors is correctly specified.\n"
     ]
    }
   ],
   "source": [
    "# Generamos el modelo de ejemplo\n",
    "modelo_ejemplo = smf.ols('mpg ~ 0 + cyl + gear', data = datos).fit()\n",
    "print( modelo_ejemplo.summary() )"
   ]
  },
  {
   "cell_type": "code",
   "execution_count": 15,
   "metadata": {},
   "outputs": [
    {
     "name": "stdout",
     "output_type": "stream",
     "text": [
      "AIC :: \n",
      "109.70435404459785\n",
      "\n",
      "BIC :: \n",
      "114.10156175299703\n",
      "\n",
      "Cp :: \n",
      "90.42286980063771\n"
     ]
    }
   ],
   "source": [
    "# Calculamos algunos variables necesarias \n",
    "y_real             = datos.mpg                      # Y Reales    del modelo (en este caso mpg)\n",
    "y_estimada_mc      = modelo_completo.fittedvalues   # Y Ajustadas del modelo completo (todas las covariables)\n",
    "y_estimada_ejemplo = modelo_ejemplo.fittedvalues    # Y Ajustadas del sub-modelo a comparar\n",
    "\n",
    "# Mostramos las estadisticas\n",
    "print(\"AIC :: \")\n",
    "print(rsp.aic.aic( y = y_real, y_pred = y_estimada_ejemplo, p = 3 ))\n",
    "print(\"\")\n",
    "print(\"BIC :: \")\n",
    "print(rsp.bic.bic( y = y_real, y_pred = y_estimada_ejemplo, p = 3 ))\n",
    "print(\"\")\n",
    "print(\"Cp :: \")\n",
    "print(rsp.mallow.mallow( y = y_real, y_pred = y_estimada_mc, y_sub = y_estimada_ejemplo, k = 11, p = 3 ))"
   ]
  },
  {
   "cell_type": "code",
   "execution_count": 16,
   "metadata": {},
   "outputs": [
    {
     "name": "stdout",
     "output_type": "stream",
     "text": [
      "                            OLS Regression Results                            \n",
      "==============================================================================\n",
      "Dep. Variable:                    mpg   R-squared:                       0.775\n",
      "Model:                            OLS   Adj. R-squared:                  0.751\n",
      "Method:                 Least Squares   F-statistic:                     32.15\n",
      "Date:                Wed, 11 Sep 2019   Prob (F-statistic):           3.28e-09\n",
      "Time:                        21:47:15   Log-Likelihood:                -78.510\n",
      "No. Observations:                  32   AIC:                             165.0\n",
      "Df Residuals:                      28   BIC:                             170.9\n",
      "Df Model:                           3                                         \n",
      "Covariance Type:            nonrobust                                         \n",
      "==============================================================================\n",
      "                 coef    std err          t      P>|t|      [0.025      0.975]\n",
      "------------------------------------------------------------------------------\n",
      "Intercept     19.3443      6.371      3.036      0.005       6.294      32.394\n",
      "disp          -0.0192      0.009     -2.052      0.050      -0.038   -3.58e-05\n",
      "hp            -0.0312      0.013     -2.340      0.027      -0.059      -0.004\n",
      "drat           2.7150      1.487      1.825      0.079      -0.332       5.762\n",
      "==============================================================================\n",
      "Omnibus:                        3.840   Durbin-Watson:                   1.708\n",
      "Prob(Omnibus):                  0.147   Jarque-Bera (JB):                3.032\n",
      "Skew:                           0.754   Prob(JB):                        0.220\n",
      "Kurtosis:                       3.005   Cond. No.                     3.74e+03\n",
      "==============================================================================\n",
      "\n",
      "Warnings:\n",
      "[1] Standard Errors assume that the covariance matrix of the errors is correctly specified.\n",
      "[2] The condition number is large, 3.74e+03. This might indicate that there are\n",
      "strong multicollinearity or other numerical problems.\n"
     ]
    }
   ],
   "source": [
    "# Generamos el modelo de ejemplo\n",
    "modelo_ejemplo = smf.ols('mpg ~ disp + hp + drat', data = datos).fit()\n",
    "print( modelo_ejemplo.summary() )"
   ]
  },
  {
   "cell_type": "code",
   "execution_count": 17,
   "metadata": {},
   "outputs": [
    {
     "name": "stdout",
     "output_type": "stream",
     "text": [
      "AIC :: \n",
      "72.20863520509653\n",
      "\n",
      "BIC :: \n",
      "76.6058429134957\n",
      "\n",
      "Cp :: \n",
      "10.070948051057343\n"
     ]
    }
   ],
   "source": [
    "# Calculamos algunos variables necesarias \n",
    "y_real             = datos.mpg                      # Y Reales    del modelo (en este caso mpg)\n",
    "y_estimada_mc      = modelo_completo.fittedvalues   # Y Ajustadas del modelo completo (todas las covariables)\n",
    "y_estimada_ejemplo = modelo_ejemplo.fittedvalues    # Y Ajustadas del sub-modelo a comparar\n",
    "\n",
    "# Mostramos las estadisticas\n",
    "print(\"AIC :: \")\n",
    "print(rsp.aic.aic( y = y_real, y_pred = y_estimada_ejemplo, p = 3 ))\n",
    "print(\"\")\n",
    "print(\"BIC :: \")\n",
    "print(rsp.bic.bic( y = y_real, y_pred = y_estimada_ejemplo, p = 3 ))\n",
    "print(\"\")\n",
    "print(\"Cp :: \")\n",
    "print(rsp.mallow.mallow( y = y_real, y_pred = y_estimada_mc, y_sub = y_estimada_ejemplo, k = 11, p = 3 ))"
   ]
  }
 ],
 "metadata": {
  "kernelspec": {
   "display_name": "Python 3",
   "language": "python",
   "name": "python3"
  },
  "language_info": {
   "codemirror_mode": {
    "name": "ipython",
    "version": 3
   },
   "file_extension": ".py",
   "mimetype": "text/x-python",
   "name": "python",
   "nbconvert_exporter": "python",
   "pygments_lexer": "ipython3",
   "version": "3.6.5"
  }
 },
 "nbformat": 4,
 "nbformat_minor": 2
}
