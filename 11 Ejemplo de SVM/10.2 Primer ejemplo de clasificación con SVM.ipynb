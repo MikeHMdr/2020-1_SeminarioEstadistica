{
 "cells": [
  {
   "cell_type": "markdown",
   "metadata": {},
   "source": [
    "# Bibliotecas a utilizar"
   ]
  },
  {
   "cell_type": "code",
   "execution_count": 1,
   "metadata": {},
   "outputs": [],
   "source": [
    "# Bibliotecas a utilizar \n",
    "import numpy                   as np      # Uso de álgebra lineal, funciones vectoriales\n",
    "import pandas                  as pd      # Trabajar con DataFrames\n",
    "import matplotlib.pyplot       as plt     # Para realizar gráficas\n",
    "from sklearn.metrics           import accuracy_score     # Función para calcular la precisión de clasificación\n",
    "from sklearn.metrics           import confusion_matrix   # Función para calcular una matriz de confusión\n",
    "from sklearn                   import svm                # Biblioteca con funciones de SVM\n",
    "from sklearn.datasets          import make_blobs         # Función para generar puntos aleatorios\n",
    "\n",
    "#sns.set()\n",
    "import warnings\n",
    "warnings.filterwarnings('ignore')"
   ]
  },
  {
   "cell_type": "markdown",
   "metadata": {},
   "source": [
    "## Ejemplo 1"
   ]
  },
  {
   "cell_type": "code",
   "execution_count": 2,
   "metadata": {},
   "outputs": [
    {
     "data": {
      "image/png": "[encoded data removed]",
      "text/plain": [
       "<Figure size 1152x432 with 1 Axes>"
      ]
     },
     "metadata": {
      "needs_background": "light"
     },
     "output_type": "display_data"
    }
   ],
   "source": [
    "# Creamos 40 puntos y los graficamos\n",
    "X, y = make_blobs(n_samples=40, centers=2, random_state=6)\n",
    "plt.subplots( nrows = 1, ncols = 1, figsize=(16,6) )\n",
    "plt.title(\"Nube de puntos de ejemplo\")\n",
    "plt.scatter(X[:, 0], X[:, 1], c=[ \"purple\" if x == 1 else \"orange\" for x in y], s=50)\n",
    "plt.grid()\n",
    "plt.show()"
   ]
  },
  {
   "cell_type": "code",
   "execution_count": 3,
   "metadata": {},
   "outputs": [
    {
     "data": {
      "text/plain": [
       "SVC(C=1.0, cache_size=200, class_weight=None, coef0=0.0,\n",
       "    decision_function_shape='ovr', degree=3, gamma='auto_deprecated',\n",
       "    kernel='linear', max_iter=-1, probability=False, random_state=None,\n",
       "    shrinking=True, tol=0.001, verbose=False)"
      ]
     },
     "execution_count": 3,
     "metadata": {},
     "output_type": "execute_result"
    }
   ],
   "source": [
    "# Generamos nuestro clasificador\n",
    "clasificador_svm = svm.SVC(kernel='linear').fit(X, y)\n",
    "clasificador_svm"
   ]
  },
  {
   "cell_type": "code",
   "execution_count": 4,
   "metadata": {},
   "outputs": [],
   "source": [
    "# Limites de la grafica actual\n",
    "xlim   = [ X[:,0].min(), X[:,0].max() ]\n",
    "ylim   = [ X[:,1].min(), X[:,1].max() ]\n",
    "XX, YY = np.meshgrid( np.linspace(xlim[0], xlim[1], 30) , np.linspace(ylim[0], ylim[1], 30) )\n",
    "XY     = np.vstack( [XX.ravel(), YY.ravel()] ).T\n",
    "Z      = clasificador_svm.decision_function( XY ).reshape(XX.shape)"
   ]
  },
  {
   "cell_type": "code",
   "execution_count": null,
   "metadata": {},
   "outputs": [],
   "source": [
    "# Graficamos los puntos\n",
    "plt.subplots( nrows = 1, ncols = 1, figsize=(16,6) )\n",
    "plt.title(\"Nube de puntos de ejemplo\")\n",
    "plt.scatter(X[:, 0], X[:, 1], c=[ \"purple\" if x == 1 else \"orange\" for x in y], s=50)\n",
    "# Graficamos las lineas de decision\n",
    "plt.contour(XX, YY, Z, colors='k', levels=[-1, 0, 1], alpha=0.5, linestyles=['--', '-', '--'] )\n",
    "# Graficamos los vectores de soporte\n",
    "plt.scatter(clasificador_svm.support_vectors_[:, 0], clasificador_svm.support_vectors_[:, 1], s=150,\n",
    "           linewidth=1, facecolors='none', edgecolors='red')\n",
    "plt.grid()\n",
    "plt.show()"
   ]
  },
  {
   "cell_type": "markdown",
   "metadata": {},
   "source": [
    "# Ejemplo 2"
   ]
  },
  {
   "cell_type": "code",
   "execution_count": null,
   "metadata": {},
   "outputs": [],
   "source": [
    "# Leemos datos de ejemplo\n",
    "datos_2          = pd.read_csv(\"datos_2.csv\")   # Datos con dos clases\n",
    "datos_2[\"CLASE\"] = [ 1 if x==\"#1F77B4\" else -1 for x in np.array(datos_2[\"Z\"]) ]\n",
    "datos_ejemplo    = datos_2.sample(n=100,random_state=10)\n",
    "\n",
    "# Graficamos nuestros puntos\n",
    "fig, axs = plt.subplots( nrows = 1, ncols = 1, figsize=(16,6) )\n",
    "axs.set_title(\"Segunda Nube de Puntos\")\n",
    "axs.scatter( x=datos_ejemplo[\"X\"], y=datos_ejemplo[\"Y\"], c=datos_ejemplo[\"Z\"], label=\"Puntos\")\n",
    "plt.grid()\n",
    "plt.show()"
   ]
  },
  {
   "cell_type": "code",
   "execution_count": null,
   "metadata": {},
   "outputs": [],
   "source": [
    "# Generamos nuestro clasificador\n",
    "matriz_diseño    = datos_ejemplo.values[:,0:2]\n",
    "y_reales         = datos_ejemplo.values[:,  2]\n",
    "clasificador_svm = svm.SVC(kernel='linear').fit( matriz_diseño, y_reales )\n",
    "clasificador_svm"
   ]
  },
  {
   "cell_type": "code",
   "execution_count": null,
   "metadata": {},
   "outputs": [],
   "source": [
    "y_estimadas = clasificador_svm.predict( matriz_diseño )\n",
    "print( \"Precisión del modelo :: \", accuracy_score( y_reales, y_estimadas ) * 100, \"%\" )"
   ]
  },
  {
   "cell_type": "code",
   "execution_count": null,
   "metadata": {},
   "outputs": [],
   "source": [
    "x_lim      = [ datos_ejemplo[\"X\"].min() - 1, datos_ejemplo[\"X\"].max() + 1 ]\n",
    "y_lim      = [ datos_ejemplo[\"Y\"].min() - 1, datos_ejemplo[\"Y\"].max() + 1 ]\n",
    "XX, YY     = np.meshgrid( np.linspace(x_lim[0], x_lim[1], 100  ), np.linspace(y_lim[0], y_lim[1], 100 ) )\n",
    "XY         = np.vstack( [XX.ravel(), YY.ravel()] ).T\n",
    "Z_fondo    = np.array([ 1 if x==\"#D62728\" else 2 for x in clasificador_svm.predict( XY )]).reshape( XX.shape ) \n",
    "Z_decision = clasificador_svm.decision_function( XY ).reshape( XX.shape )"
   ]
  },
  {
   "cell_type": "code",
   "execution_count": null,
   "metadata": {},
   "outputs": [],
   "source": [
    "# Graficamos nuestros puntos\n",
    "plt.subplots( nrows = 1, ncols = 1, figsize=(16,6) )\n",
    "plt.title(\"Segunda Nube de Puntos\")\n",
    "# Graficamos los puntos\n",
    "plt.scatter( x=datos_ejemplo[\"X\"], y=datos_ejemplo[\"Y\"], c=datos_ejemplo[\"Z\"], label=\"Puntos\")\n",
    "# Graficamos la regla de decisión / recta\n",
    "plt.contour( XX, YY, Z_decision, levels=[-1,0,1], alpha=0.9, colors=\"k\", linestyles=['--', '-', '--'] )\n",
    "# Graficamos el fondo para identificar la clase\n",
    "plt.contourf(XX, YY, Z_fondo, colors=[\"red\",\"blue\"], alpha=0.2)\n",
    "# Graficamos los vectores de soporte\n",
    "plt.scatter(clasificador_svm.support_vectors_[:, 0], clasificador_svm.support_vectors_[:, 1], s=150,\n",
    "           linewidth=1, facecolors='none', edgecolors='red')\n",
    "plt.show()\n",
    "print(\"Precisión del modelo :: \", clasificador_svm.score( matriz_diseño, y_reales )*100, \"%\" )"
   ]
  },
  {
   "cell_type": "markdown",
   "metadata": {},
   "source": [
    "## Ejemplo 3"
   ]
  },
  {
   "cell_type": "code",
   "execution_count": null,
   "metadata": {},
   "outputs": [],
   "source": [
    "datos_2.head()"
   ]
  },
  {
   "cell_type": "code",
   "execution_count": null,
   "metadata": {},
   "outputs": [],
   "source": [
    "# Leemos datos de ejemplo\n",
    "datos_2          = pd.read_csv(\"datos_2.csv\")   # Datos con dos clases\n",
    "\n",
    "# Generamos nuestro clasificador\n",
    "matriz_diseño    = datos_2.values[:,0:2]\n",
    "y_reales         = datos_2.values[:,  2]\n",
    "clasificador_svm = svm.SVC(kernel='linear').fit( matriz_diseño, y_reales )\n",
    "clasificador_svm\n",
    "\n",
    "\n",
    "# Graficamos nuestros puntos\n",
    "plt.subplots( nrows = 1, ncols = 1, figsize=(16,6) )\n",
    "plt.title(\"Segunda Nube de Puntos\")\n",
    "# Graficamos los puntos\n",
    "plt.scatter( x=datos_2[\"X\"], y=datos_2[\"Y\"], c=datos_2[\"Z\"], label=\"Puntos\", alpha = 0.6)\n",
    "# Obtenemos los limites de la grafica actual para poder calcular Z\n",
    "x_lim      = plt.gca().get_xlim()\n",
    "y_lim      = plt.gca().get_ylim()\n",
    "XX, YY     = np.meshgrid( np.linspace(x_lim[0], x_lim[1], 100  ), np.linspace(y_lim[0], y_lim[1], 100 ) )\n",
    "XY         = np.vstack( [XX.ravel(), YY.ravel()] ).T\n",
    "Z_fondo    = np.array([ 1 if x==\"#D62728\" else 2 for x in clasificador_svm.predict( XY )]).reshape( XX.shape ) \n",
    "Z_decision = clasificador_svm.decision_function( XY ).reshape( XX.shape )\n",
    "# Graficamos el fondo para identificar la clase\n",
    "plt.contourf(XX, YY, Z_fondo   , colors=[\"red\",\"blue\"], alpha=0.05)\n",
    "# Graficamos la regla de decisión / recta\n",
    "plt.contour( XX, YY, Z_decision, levels=[-1,0,1], alpha=0.6, colors=\"k\", linestyles=['--', '-', '--'] )\n",
    "# Graficamos los vectores de soporte\n",
    "plt.scatter(clasificador_svm.support_vectors_[:, 0], clasificador_svm.support_vectors_[:, 1], s=150,\n",
    "           linewidth=2, facecolors='none', edgecolors='green')\n",
    "plt.show()\n",
    "\n",
    "print(\"Precisión del modelo :: \", clasificador_svm.score( matriz_diseño, y_reales )*100, \"%\" )"
   ]
  },
  {
   "cell_type": "code",
   "execution_count": null,
   "metadata": {},
   "outputs": [],
   "source": [
    "def ClasificadorMike( X ):\n",
    "    clases = []\n",
    "    for i in range( X.shape[0] ):\n",
    "        x, y = X[i, 0] , X[i, 1]\n",
    "        # Mi regla es Azul si Y > -X, Rojo si Y < -X\n",
    "        resultado = \"#1F77B4\" if y > -x else \"#D62728\"\n",
    "        clases.append( resultado )\n",
    "    return np.array( clases )\n",
    "        \n",
    "y_estimadas_mike = ClasificadorMike( datos_2.values[:,0:2] )\n",
    "print( \"Precisión del modelo :: \", accuracy_score( y_reales, y_estimadas_mike )*100, \"%\" )\n",
    "print( \"Matriz de confusión  :: \\n\",confusion_matrix( y_reales, y_estimadas_mike ) )"
   ]
  }
 ],
 "metadata": {
  "kernelspec": {
   "display_name": "Python 3",
   "language": "python",
   "name": "python3"
  },
  "language_info": {
   "codemirror_mode": {
    "name": "ipython",
    "version": 3
   },
   "file_extension": ".py",
   "mimetype": "text/x-python",
   "name": "python",
   "nbconvert_exporter": "python",
   "pygments_lexer": "ipython3",
   "version": "3.6.5"
  }
 },
 "nbformat": 4,
 "nbformat_minor": 2
}
